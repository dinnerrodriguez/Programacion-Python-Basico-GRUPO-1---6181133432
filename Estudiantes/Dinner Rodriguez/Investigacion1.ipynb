{
 "cells": [
  {
   "cell_type": "markdown",
   "metadata": {},
   "source": [
    "# 📌 INVESTIGACIÓN 1: \n",
    "## Exploración Teórica y Aplicación Práctica de las Funciones en Python\n",
    "\n",
    "#### Profesor: Andrés Mena\n",
    "\n",
    "#### Alumno: Dinner Rodríguez Méndez\n",
    "\n",
    "####  -------------------------------------------------------------------------------------------------------------------------------------------------------------------\n",
    "\n",
    "##  🟡 SECCIÓN 1: Introducción\n",
    "\n",
    "###    Este notebook explora el uso de funciones en Python, su importancia en la programación modular y su impacto en la eficiencia del código.\n",
    "\n",
    "    ✅ Pregunta de investigación:\n",
    "        ¿Cómo influyen las funciones en Python en la modularización y eficiencia de los programas en desarrollo de software?\n",
    "\n",
    "####   El uso de funciones en Python es crucial porque permite modularizar el código, es decir, dividirlo en bloques más pequeños y manejables. \n",
    "       \n",
    "       Esto facilita la lectura y el mantenimiento del código, ya que cada función realiza una tarea específica que se puede reutilizar \n",
    "       en distintas partes del programa. Además, las funciones promueven la reutilización de código, lo que reduce la duplicación y mejora la eficiencia. \n",
    "       También permiten la abstracción de la lógica compleja, haciendo que el código sea más limpio y comprensible. En resumen, \n",
    "       las funciones son esenciales para escribir código organizado, optimizado y fácil de mantener.\n",
    "\n",
    "\n",
    "##  🟡 SECCIÓN 2: Investigación y ejemplos\n",
    "\n",
    "### 📍 3.1 Definición y Propósito de las Funciones en Python\n",
    "\n",
    "### ✅ ¿Qué son las funciones?\n",
    "\n",
    "#####   Las funciones son bloques de código que realizan una tarea específica y pueden ser reutilizadas en un programa. \n",
    "        En programación, una función toma ciertos valores de entrada (llamados parámetros o argumentos), \n",
    "        realiza una acción y luego devuelve un resultado.\n",
    "        El propósito de las funciones es modularizar el código, haciéndolo más organizado, reutilizable y fácil de mantener.\n",
    "\n"
   ]
  },
  {
   "cell_type": "code",
   "execution_count": null,
   "metadata": {},
   "outputs": [],
   "source": [
    "# Definición de la función\n",
    "def saludar(nombre):\n",
    "    return f\"¡Hola, {nombre}!\"\n",
    "\n",
    "# Llamada a la función\n",
    "mensaje = saludar(\"Dinner\")\n",
    "print(mensaje)"
   ]
  },
  {
   "cell_type": "markdown",
   "metadata": {},
   "source": [
    "### ✅ Beneficios de modularizar código con funciones\n",
    "\n",
    "##### Modularizar el código con funciones tiene varios beneficios importantes que mejoran la calidad del software y facilitan su mantenimiento. \n",
    "      Aquí algunos de los principales:\n",
    "\n",
    "    1. Reutilización del código:\n",
    "\n",
    "       Las funciones te permiten escribir una vez un bloque de código y reutilizarlo tantas veces como se necesite en diferentes partes del programa. \n",
    "       Esto evita la duplicación y reduce el riesgo de errores.\n",
    "\n",
    "    2. Legibilidad:\n",
    "\n",
    "       Al dividir el código en funciones pequeñas y específicas, el código se vuelve más fácil de leer y entender. Cada función tiene un propósito claro, \n",
    "       lo que hace que cualquier desarrollador que lea el código pueda seguir su lógica más fácilmente.\n",
    "\n",
    "    3. Mantenimiento más sencillo:\n",
    "\n",
    "       Si es necesario modificar una parte del código, hacerlo en una función centralizada es mucho más sencillo que buscar el \n",
    "       código repetido en múltiples lugares. Esto también reduce la posibilidad de introducir errores al hacer cambios.\n",
    "\n",
    "    4. Depuración (debugging) más fácil:\n",
    "\n",
    "       Las funciones permiten aislar problemas en partes más pequeñas del código. Si una función tiene un error, \n",
    "       se puede probar independientemente para encontrar la causa sin tener que revisar el programa entero.\n",
    "\n",
    "    5. Abstracción:\n",
    "\n",
    "       Las funciones permiten ocultar los detalles de implementación. Puedes usar una función sin saber cómo está implementada internamente, \n",
    "       lo que te da la capacidad de abstraer tareas complejas en llamadas simples.\n",
    "\n",
    "    6. Escalabilidad:\n",
    "\n",
    "       A medida que el programa crece, tener funciones bien definidas facilita la expansión. \n",
    "       Se pueden agregar nuevas funcionalidades sin afectar tanto al resto del sistema, porque cada función tiene un ámbito y propósito claro.\n",
    "\n",
    "    7. Colaboración:\n",
    "\n",
    "       En proyectos con múltiples desarrolladores, la modularización facilita que varios programadores trabajen en diferentes partes \n",
    "       del código sin que sus trabajos interfieran demasiado entre sí. Cada uno puede encargarse de una o varias funciones.\n",
    "\n",
    "    8. Testeo más sencillo:\n",
    "\n",
    "       Las funciones pequeñas y aisladas se pueden probar de forma más efectiva. Se pueden crear pruebas unitarias (test unitarios) \n",
    "       que validen el comportamiento de cada función de manera independiente."
   ]
  },
  {
   "cell_type": "markdown",
   "metadata": {},
   "source": [
    "### ✅ Importancia de la reutilización del código.\n",
    "\n",
    "    La reutilización del código es un concepto fundamental en el desarrollo de software, y su importancia radica en los múltiples \n",
    "    beneficios que aporta tanto a los desarrolladores como al proyecto en general. A continuación, algunos de los aspectos más \n",
    "    relevantes de la reutilización del código:\n",
    "\n",
    "1. Reducción del esfuerzo y tiempo de desarrollo:\n",
    "\n",
    "    Evita la duplicación: Cuando se reutiliza código, no es necesario escribir la misma lógica varias veces. \n",
    "    Esto ahorra tiempo al no tener que implementar funciones que ya existen.\n",
    "    Acelera el desarrollo: Usar código reutilizable permite avanzar más rápido, ya que se puede basar en funcionalidades \n",
    "    previamente desarrolladas y probadas.\n",
    "\n",
    "2. Mejora de la calidad y confiabilidad:\n",
    "\n",
    "    Código probado: El código que ya ha sido utilizado previamente y probado en otros contextos es menos propenso a errores. \n",
    "    Esto contribuye a la estabilidad general del programa.\n",
    "    Consistencia: Usar las mismas funciones o módulos en distintas partes del proyecto asegura que el comportamiento sea consistente y predecible.\n",
    "\n",
    "3. Facilita el mantenimiento y la actualización:\n",
    "\n",
    "    Modificaciones centralizadas: Si un bloque de código se reutiliza, solo es necesario modificarlo en un lugar cuando haya un cambio o mejora. \n",
    "    Esto reduce la posibilidad de errores y omisiones al hacer cambios en múltiples lugares.\n",
    "    Menos errores: Al evitar escribir el mismo código en diferentes partes, se minimiza la probabilidad de introducir errores en cada duplicado.\n",
    "\n",
    "4. Optimización del uso de recursos:\n",
    "\n",
    "    Eficiencia de tiempo y espacio: Reutilizar código reduce la carga de trabajo del equipo de desarrollo, lo que permite enfocar más esfuerzo \n",
    "    en nuevas características o mejoras. También ayuda a gestionar mejor los recursos del proyecto.\n",
    "    Facilidad para mejorar el rendimiento: Si se reutilizan componentes eficientes, las optimizaciones realizadas en una parte del código se \n",
    "    reflejan automáticamente en todas las áreas donde se usa ese código.\n",
    "\n",
    "5. Fomenta la modularización y la organización:\n",
    "\n",
    "    Código modular: Al crear funciones o módulos reutilizables, el código se organiza de manera más estructurada, lo que facilita su comprensión y mantenimiento.\n",
    "    Escalabilidad: La reutilización permite escalar proyectos más fácilmente, ya que nuevas funcionalidades pueden construirse usando componentes ya \n",
    "    existentes sin tener que rediseñarlo todo desde cero.\n",
    "\n",
    "6. Mejor colaboración en equipo:\n",
    "\n",
    "    Trabajo en equipo eficiente: Cuando se reutilizan módulos o funciones comunes, diferentes miembros del equipo pueden trabajar en \n",
    "    distintas partes del proyecto sin interferir entre sí. Cada miembro puede centrarse en extender o mejorar partes del código sin necesidad \n",
    "    de entender el proyecto completo.\n",
    "    Facilita la integración: Si se cuenta con código reutilizable bien definido, es más fácil integrar nuevas funcionalidades al proyecto, \n",
    "    lo que mejora la colaboración y el flujo de trabajo entre desarrolladores."
   ]
  },
  {
   "cell_type": "markdown",
   "metadata": {},
   "source": [
    "### 📍 3.2 Tipos de Funciones en Python\n",
    "\n",
    "        ✅ Funciones con y sin retorno\n",
    "            Función con retorno: Una función que devuelve un valor a quien la llama usando la palabra clave return.\n",
    "            Función sin retorno: Una función que no devuelve un valor explícito. Si no se usa return, Python devuelve None por defecto.\n"
   ]
  },
  {
   "cell_type": "code",
   "execution_count": null,
   "metadata": {},
   "outputs": [],
   "source": [
    "# EJEMPLOS\n",
    "\n",
    "# Función con retorno\n",
    "def sumar(a, b):\n",
    "    return a + b\n",
    "\n",
    "resultado = sumar(3, 5)\n",
    "print(resultado)  # Imprime: 8\n",
    "\n",
    "# Función sin retorno\n",
    "def saludar(nombre):\n",
    "    print(f\"Hola, {nombre}\")\n",
    "\n",
    "saludar(\"Dinner\")  # Imprime: Hola, Dinner"
   ]
  },
  {
   "cell_type": "markdown",
   "metadata": {},
   "source": [
    "        ✅ Funciones con parámetros y valores predeterminados\n",
    "            Parámetros: Las funciones pueden aceptar valores que le pasan cuando se llaman.\n",
    "            Valores predeterminados: Puedes asignar valores predeterminados a los parámetros, lo que permite llamarlas sin pasar algunos argumentos."
   ]
  },
  {
   "cell_type": "code",
   "execution_count": null,
   "metadata": {},
   "outputs": [],
   "source": [
    "# Función con parámetros y valores predeterminados\n",
    "def saludar(nombre=\"Invitado\", saludo=\"Hola\"):\n",
    "    print(f\"{saludo}, {nombre}\")\n",
    "\n",
    "saludar()  # Imprime: Hola, Invitado\n",
    "saludar(\"Sofía\")  # Imprime: Hola, Sofía\n",
    "saludar(\"Ana\", \"Buenos días\")  # Imprime: Buenos días, Ana"
   ]
  },
  {
   "cell_type": "markdown",
   "metadata": {},
   "source": [
    "        ✅ Uso de *args y **kwargs\n",
    "            *args: Permite pasar un número variable de argumentos posicionales a una función.\n",
    "            **kwargs: Permite pasar un número variable de argumentos nombrados (pares clave-valor)."
   ]
  },
  {
   "cell_type": "code",
   "execution_count": null,
   "metadata": {},
   "outputs": [],
   "source": [
    "# Uso de *args y **kwargs\n",
    "def imprimir_datos(*args, **kwargs):\n",
    "    print(\"Argumentos posicionales:\", args)\n",
    "    print(\"Argumentos con nombre:\", kwargs)\n",
    "\n",
    "imprimir_datos(1, 2, 3, nombre=\"Dinner\", edad=48)\n",
    "# Imprime:\n",
    "# Argumentos posicionales: (1, 2, 3)\n",
    "# Argumentos con nombre: {'nombre': 'Dinner', 'edad': 48}"
   ]
  },
  {
   "cell_type": "markdown",
   "metadata": {},
   "source": [
    "        ✅ Funciones anónimas (lambda)\n",
    "            Las funciones lambda son funciones pequeñas que no tienen nombre, y se utilizan para operaciones simples y rápidas. \n",
    "            La sintaxis es más compacta que las funciones tradicionales."
   ]
  },
  {
   "cell_type": "code",
   "execution_count": null,
   "metadata": {},
   "outputs": [],
   "source": [
    "# Función lambda\n",
    "suma = lambda x, y: x + y\n",
    "print(suma(3, 5))  # Imprime: 8\n",
    "\n",
    "# Otra forma de uso: Ordenar una lista de tuplas por el segundo elemento\n",
    "pares = [(1, 2), (3, 4), (5, 0)]\n",
    "pares.sort(key=lambda x: x[1])  # Ordena por el segundo elemento\n",
    "print(pares)  # Imprime: [(5, 0), (1, 2), (3, 4)]"
   ]
  },
  {
   "cell_type": "markdown",
   "metadata": {},
   "source": [
    "        ✅ Funciones recursivas\n",
    "            Una función recursiva es aquella que se llama a sí misma. Se utiliza para resolver problemas más pequeños del mismo tipo."
   ]
  },
  {
   "cell_type": "code",
   "execution_count": null,
   "metadata": {},
   "outputs": [],
   "source": [
    "# Función recursiva para calcular el factorial\n",
    "def factorial(n):\n",
    "    if n == 0:\n",
    "        return 1\n",
    "    else:\n",
    "        return n * factorial(n - 1)\n",
    "\n",
    "print(factorial(5))  # Imprime: 120"
   ]
  },
  {
   "cell_type": "markdown",
   "metadata": {},
   "source": [
    "        ✅ Generadores (yield)\n",
    "            Los generadores son funciones que permiten iterar sobre un conjunto de datos, pero en lugar de devolver todos los resultados de una vez, \n",
    "            devuelven uno a uno mediante la palabra clave yield. Esto ahorra memoria cuando se procesan grandes cantidades de datos."
   ]
  },
  {
   "cell_type": "code",
   "execution_count": null,
   "metadata": {},
   "outputs": [],
   "source": [
    "# Generador para generar los primeros n números\n",
    "def generar_numeros(n):\n",
    "    for i in range(n):\n",
    "        yield i\n",
    "\n",
    "generador = generar_numeros(5)\n",
    "for numero in generador:\n",
    "    print(numero)  # Imprime: 0, 1, 2, 3, 4"
   ]
  },
  {
   "cell_type": "markdown",
   "metadata": {},
   "source": [
    "        ✅ Closures y decoradores\n",
    "            Closure: Una función anidada que recuerda el entorno donde fue creada, incluso después de que la función exterior haya terminado de ejecutarse.\n",
    "            Decorador: Es una función que toma otra función como argumento y la modifica o la envuelve para agregarle funcionalidades adicionales \n",
    "            sin modificar su código original."
   ]
  },
  {
   "cell_type": "code",
   "execution_count": null,
   "metadata": {},
   "outputs": [],
   "source": [
    "# Ejemplo de Closure\n",
    "def saludo(saludo):\n",
    "    def mensaje(nombre):\n",
    "        return f\"{saludo}, {nombre}\"\n",
    "    return mensaje\n",
    "\n",
    "saludo_morning = saludo(\"Buenos días\")\n",
    "print(saludo_morning(\"Sofá\"))  # Imprime: Buenos días, Sofía"
   ]
  },
  {
   "cell_type": "code",
   "execution_count": null,
   "metadata": {},
   "outputs": [],
   "source": [
    "# Ejemplo de Decorador\n",
    "def decorador(func):\n",
    "    def envoltura():\n",
    "        print(\"Función modificada antes de ejecutarse\")\n",
    "        func()\n",
    "        print(\"Función modificada después de ejecutarse\")\n",
    "    return envoltura\n",
    "\n",
    "@decorador\n",
    "def mi_funcion():\n",
    "    print(\"¡Hola!\")\n",
    "\n",
    "mi_funcion()\n",
    "# Imprime:\n",
    "# Función modificada antes de ejecutarse\n",
    "# ¡Hola!\n",
    "# Función modificada después de ejecutarse"
   ]
  },
  {
   "cell_type": "markdown",
   "metadata": {},
   "source": [
    "### 📍3.3  Aplicación de Funciones en Problemas Reales\n",
    "\n",
    "           ✅ Aplicación en Estructuras de Datos (Listas, Diccionarios)\n",
    "                Las funciones son muy útiles para manipular estructuras de datos como listas y diccionarios. Permiten crear operaciones \n",
    "                reutilizables y realizar tareas como la búsqueda, ordenamiento y filtrado de datos.\n",
    "\n",
    "                Ejemplo con Listas:\n",
    "                Digamos que tenemos una lista de estudiantes con sus calificaciones y queremos obtener los estudiantes que \n",
    "                superaron la calificación mínima."
   ]
  },
  {
   "cell_type": "code",
   "execution_count": null,
   "metadata": {},
   "outputs": [],
   "source": [
    "# Lista de estudiantes con calificaciones\n",
    "estudiantes = [(\"Dinner\", 85), (\"SOfía\", 92), (\"Ronald\", 75), (\"German\", 88), (\"Marlene\", 65)]\n",
    "\n",
    "# Función que filtra estudiantes que superan la calificación mínima\n",
    "def filtrar_estudiantes(estudiantes, calificacion_minima):\n",
    "    return [estudiante for estudiante in estudiantes if estudiante[1] >= calificacion_minima]\n",
    "\n",
    "# Filtramos estudiantes con calificación mayor o igual a 80\n",
    "aprobados = filtrar_estudiantes(estudiantes, 80)\n",
    "print(aprobados)  # Imprime: [('Dinner', 85), ('Sofía', 92), ('german', 88)]"
   ]
  },
  {
   "cell_type": "code",
   "execution_count": null,
   "metadata": {},
   "outputs": [],
   "source": [
    "# Ejemplo con Diccionarios:\n",
    "# Imaginemos que tenemos un diccionario con las ventas de un conjunto de productos y necesitamos calcular el total de ventas por producto.\n",
    "\n",
    "# Diccionario de productos y sus ventas\n",
    "ventas = {\n",
    "    \"producto_a\": 100,\n",
    "    \"producto_b\": 250,\n",
    "    \"producto_c\": 320,\n",
    "    \"producto_d\": 150\n",
    "}\n",
    "\n",
    "# Función que calcula el total de ventas\n",
    "def total_ventas(ventas):\n",
    "    return sum(ventas.values())\n",
    "\n",
    "# Calculamos el total de ventas\n",
    "print(total_ventas(ventas))  # Imprime: 820"
   ]
  },
  {
   "cell_type": "markdown",
   "metadata": {},
   "source": [
    "         ✅ Uso de Funciones en Procesamiento de Datos\n",
    "             En muchos casos, las funciones son esenciales para realizar operaciones de procesamiento sobre grandes volúmenes de datos. \n",
    "             Esto incluye operaciones como limpieza, transformación y agregación de datos.\n",
    "\n",
    "            Ejemplo: Procesamiento de Datos (Filtrar y Agregar)\n",
    "            Tenemos una lista de datos sobre transacciones y necesitamos filtrar aquellas que corresponden a compras superiores a un \n",
    "            monto específico y luego calcular el total."
   ]
  },
  {
   "cell_type": "code",
   "execution_count": null,
   "metadata": {},
   "outputs": [],
   "source": [
    "# Lista de transacciones\n",
    "transacciones = [\n",
    "    {\"producto\": \"A\", \"monto\": 150},\n",
    "    {\"producto\": \"B\", \"monto\": 250},\n",
    "    {\"producto\": \"C\", \"monto\": 50},\n",
    "    {\"producto\": \"D\", \"monto\": 300},\n",
    "]\n",
    "\n",
    "# Función que filtra y calcula el total de transacciones mayores a un monto\n",
    "def procesar_transacciones(transacciones, monto_minimo):\n",
    "    transacciones_filtradas = [t for t in transacciones if t[\"monto\"] > monto_minimo]\n",
    "    total = sum(t[\"monto\"] for t in transacciones_filtradas)\n",
    "    return transacciones_filtradas, total\n",
    "\n",
    "# Filtramos las transacciones superiores a 100 y calculamos el total\n",
    "transacciones_filtradas, total = procesar_transacciones(transacciones, 100)\n",
    "print(transacciones_filtradas)  # Imprime: [{'producto': 'B', 'monto': 250}, {'producto': 'D', 'monto': 300}]\n",
    "print(total)  # Imprime: 550"
   ]
  },
  {
   "cell_type": "markdown",
   "metadata": {},
   "source": [
    "          ✅ Optimización del Rendimiento con Funciones\n",
    "                Las funciones también son útiles cuando se busca optimizar el rendimiento de un programa. Esto se puede hacer dividiendo \n",
    "                el problema en partes más pequeñas, lo que puede mejorar la eficiencia y la facilidad de mantenimiento.\n",
    "\n",
    "                Ejemplo: Optimización con Memorización\n",
    "                La memorización es una técnica que consiste en almacenar los resultados de cálculos previos para evitar realizar el mismo cálculo repetidamente, \n",
    "                lo que mejora el rendimiento."
   ]
  },
  {
   "cell_type": "code",
   "execution_count": null,
   "metadata": {},
   "outputs": [],
   "source": [
    "# Función recursiva sin optimización\n",
    "# Ejemplo :  https://en.wikipedia.org/wiki/Fibonacci_sequence\n",
    "\n",
    "\n",
    "def fibonacci(n):\n",
    "    if n <= 1:\n",
    "        return n\n",
    "    return fibonacci(n - 1) + fibonacci(n - 2)\n",
    "\n",
    "# Función recursiva con memorización (uso de un diccionario para almacenar resultados previos)\n",
    "def fibonacci_memorizado(n, memo={}):\n",
    "    if n in memo:\n",
    "        return memo[n]\n",
    "    if n <= 1:\n",
    "        return n\n",
    "    memo[n] = fibonacci_memorizado(n - 1, memo) + fibonacci_memorizado(n - 2, memo)\n",
    "    return memo[n]\n",
    "\n",
    "# Sin memorización\n",
    "print(fibonacci(30))  # Toma más tiempo para calcular\n",
    "\n",
    "# Con memorización\n",
    "print(fibonacci_memorizado(30))  # Es mucho más rápido"
   ]
  },
  {
   "cell_type": "markdown",
   "metadata": {},
   "source": [
    "            ✅  Comparación entre Funciones Definidas por el Usuario y Funciones Integradas\n",
    "                    Las funciones integradas de Python, como len(), sum(), min(), max(), etc., \n",
    "                    están optimizadas y son más rápidas para tareas comunes. Sin embargo, las funciones \n",
    "                    definidas por el usuario permiten mayor flexibilidad y personalización según el problema específico.\n",
    "\n",
    "                    Ejemplo: Uso de Funciones Integradas vs Definidas por el Usuario\n",
    "                    Digamos que queremos encontrar la suma de todos los números en una lista, \n",
    "                    sumar las calificaciones de los estudiantes y contar cuántos estudiantes aprobaron.\n"
   ]
  },
  {
   "cell_type": "code",
   "execution_count": null,
   "metadata": {},
   "outputs": [],
   "source": [
    "# Lista de estudiantes con calificaciones\n",
    "calificaciones = [80, 92, 75, 88, 65]\n",
    "\n",
    "# Función integrada: sum() y len()\n",
    "total_calificaciones = sum(calificaciones)\n",
    "cantidad_estudiantes = len(calificaciones)\n",
    "\n",
    "# Función definida por el usuario para calcular el promedio\n",
    "def promedio(lista):\n",
    "    return sum(lista) / len(lista)\n",
    "\n",
    "# Usamos las funciones integradas y la definida por el usuario\n",
    "print(\"Total de calificaciones:\", total_calificaciones)  # Imprime: 400\n",
    "print(\"Cantidad de estudiantes:\", cantidad_estudiantes)  # Imprime: 5\n",
    "print(\"Promedio:\", promedio(calificaciones))  # Imprime: 80.0"
   ]
  },
  {
   "cell_type": "markdown",
   "metadata": {},
   "source": [
    "##  🟡 SECCIÓN 3:  Conclusiones\n",
    "\n",
    "### 📍 Resumen de Hallazgos sobre la Teoría y la Práctica\n",
    "\n",
    "A lo largo de este análisis y ejemplos prácticos sobre funciones en Python, hemos aprendido que las funciones son una herramienta fundamental en la programación. Permiten modularizar el código, hacerlo más legible y reutilizable. Las funciones no solo facilitan el mantenimiento y la depuración, sino que también mejoran la eficiencia al poder reutilizar bloques de código y al optimizar operaciones, como hemos visto con el uso de técnicas de memorización para mejorar el rendimiento.\n",
    "\n",
    "En términos de estructuras de datos, vimos cómo las funciones permiten manipular y procesar listas y diccionarios de manera eficiente. Además, descubrimos que, cuando se combinan con herramientas como *args y **kwargs, las funciones ofrecen gran flexibilidad para manejar un número variable de argumentos.\n",
    "\n",
    "En el ámbito de procesamiento de datos, las funciones son esenciales para tareas como filtrar, transformar y agregar grandes volúmenes de información, haciendo el código más limpio y organizado. Además, la práctica con generadores y funciones recursivas mostró cómo manejar grandes conjuntos de datos y cómo resolver problemas más complejos de manera eficiente.\n",
    "\n",
    "Finalmente, al comparar funciones definidas por el usuario con funciones integradas de Python, encontramos que las primeras son más flexibles y permiten resolver problemas específicos, mientras que las funciones integradas son más rápidas y eficientes para tareas comunes debido a su implementación optimizada.\n",
    "\n",
    "Análisis Personal sobre Qué Aprendí del Uso de Funciones en Python\n",
    "El uso de funciones en Python me ha permitido comprender cómo la modularización de código mejora tanto la organización como el rendimiento de los programas. Las funciones no solo ayudan a dividir un problema complejo en pequeñas tareas, sino que también facilitan el mantenimiento, ya que podemos modificar o mejorar una sola función sin afectar al resto del código.\n",
    "\n",
    "A lo largo de los ejemplos y ejercicios, he comprendido cómo las funciones pueden ser utilizadas para resolver una amplia variedad de problemas, desde la manipulación de estructuras de datos hasta la optimización del rendimiento. Especialmente, el uso de funciones recursivas y generadores me mostró el poder de las funciones cuando se trata de problemas complejos que requieren soluciones elegantes y eficientes.\n",
    "\n",
    "Una de las lecciones más valiosas fue ver cómo los decoradores y las funciones lambda pueden ser herramientas muy potentes para agregar funcionalidades adicionales sin modificar el código original. Esto me ha permitido ver el gran poder de abstracción que Python ofrece a través de las funciones.\n",
    "\n",
    "En cuanto al aspecto de optimización, el uso de funciones como sum() o len(), junto con técnicas como la memorización, me mostró cómo se pueden mejorar significativamente los tiempos de ejecución y hacer que el código sea más eficiente.\n",
    "\n",
    "Referencias\n",
    "* Python Official Documentation: https://docs.python.org/3/\n",
    "* Automate the Boring Stuff with Python (Libro): Al Sweigart.\n",
    "* Python Data Science Handbook (Libro): Jake VanderPlas.\n",
    "* Real Python (Sitio web): https://realpython.com/\n",
    "* Python Functions - W3Schools: https://www.w3schools.com/python/python_functions.asp\n",
    "* https://nostarch.com/pythoncrashcourse2e\n",
    "* https://www.oreilly.com/library/view/fluent-python/9781491946237/\n",
    "* https://effectivepython.com/\n",
    "* https://www.oreilly.com/library/view/python-for-data/9781491957660/\n",
    "* https://docs.python.org/3/tutorial/modules.html#functions\n",
    "\n"
   ]
  }
 ],
 "metadata": {
  "kernelspec": {
   "display_name": "Python 3",
   "language": "python",
   "name": "python3"
  },
  "language_info": {
   "codemirror_mode": {
    "name": "ipython",
    "version": 3
   },
   "file_extension": ".py",
   "mimetype": "text/x-python",
   "name": "python",
   "nbconvert_exporter": "python",
   "pygments_lexer": "ipython3",
   "version": "3.13.1"
  }
 },
 "nbformat": 4,
 "nbformat_minor": 2
}
