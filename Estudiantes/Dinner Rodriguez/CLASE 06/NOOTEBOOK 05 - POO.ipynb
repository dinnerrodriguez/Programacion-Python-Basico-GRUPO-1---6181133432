{
 "cells": [
  {
   "cell_type": "markdown",
   "metadata": {},
   "source": [
    "# Programación Orientada a Objetos(POO) en Python\n",
    "## Autor: Dinner Rodríguez Méndez\n",
    "### Fecha: 2025/02/06\n",
    "\n",
    "## 1. Introducción a la POO \n",
    "- ¿Qué es la POO? \n",
    "- Características principales \n",
    "- Comparación con la programación estructurada \n",
    "  \n",
    "## 2. Conceptos Claves de la POO \n",
    "- Clases y Objetos \n",
    "- Atributos y Métodos \n",
    "- Encapsulamiento \n",
    "- Herencia \n",
    "- Polimorfismo \n",
    "  \n",
    "## 3. Ejemplos Prácticos de cada Concepto \n",
    "- Definir una clase simple \n",
    "- Crear y manipular objetos \n",
    "- Aplicar herencia y polimorfismo \n",
    "  \n",
    "## 4. Desarrollo de un Proyecto Aplicado \n",
    "- Descripción del proyecto \n",
    "- Implementación paso a paso \n",
    "  \n",
    "--- \n",
    "  \n",
    "## 🟢 1. Introducción a la POO \n",
    "La **Programación Orientada a Objetos (POO)** es un paradigma de programación basado en la idea de modelar entidades del mundo real a través de **objetos**. \n",
    "  \n",
    "### ✅ Características clave de la POO: \n",
    "- **Abstracción:** Modela objetos del mundo real en código. \n",
    "- **Encapsulamiento:** Protege los datos y métodos dentro de una clase. \n",
    "- **Herencia:** Permite reutilizar código mediante la relación padre-hijo. \n",
    "- **Polimorfismo:** Usa el mismo método con diferentes implementaciones. \n",
    "  \n",
    "### 📌 Diferencia entre programación estructurada y POO: \n",
    "  \n",
    "| Característica       | Programación Estructurada | Programación Orientada a Objetos | \n",
    "|---------------------|------------------------|--------------------------------| \n",
    "| **Organización**   | Basada en funciones    | Basada en clases y objetos    | \n",
    "| **Reutilización**  | Baja                   | Alta                          | \n",
    "| **Mantenimiento**  | Más complejo           | Más modular y escalable      | \n",
    "\n",
    "\n",
    "## 🟡 2. Conceptos Claves de la POO en Python\n",
    "\n",
    "### 📌 Clases y Objetos\n",
    "En Python, una clase es un modelo que define la estructura y comportamiento de un objeto. Un objeto es una instancia de una clase."
   ]
  },
  {
   "cell_type": "code",
   "execution_count": 4,
   "metadata": {},
   "outputs": [
    {
     "name": "stdout",
     "output_type": "stream",
     "text": [
      "El objetos 2374804711344 tiene el atributo nombre como Emmanuel Alfaro\n",
      "El objetos 2374811438288 tiene el atributo nombre como Mariana Villalobos\n",
      "El objetos 2374802574864 tiene el atributo nombre como Andrés Mena\n"
     ]
    }
   ],
   "source": [
    "#Como crear una clase\n",
    "\n",
    "#Como crear una clase\n",
    "class Persona:\n",
    "    def __init__(self,name,age):\n",
    "        self.nombre = name\n",
    "        self.edad = age\n",
    "\n",
    "\n",
    "estudiante = Persona('Emmanuel Alfaro',28)\n",
    "estudiante2 = Persona('Mariana Villalobos', 25)\n",
    "profesor = Persona('Andrés Mena',33)\n",
    "\n",
    "\n",
    "print (f'El objetos {id(estudiante)} tiene el atributo nombre como {estudiante.nombre}')\n",
    "print (f'El objetos {id(estudiante2)} tiene el atributo nombre como {estudiante2.nombre}')\n",
    "print (f'El objetos {id(profesor)} tiene el atributo nombre como {profesor.nombre}')"
   ]
  },
  {
   "cell_type": "code",
   "execution_count": 6,
   "metadata": {},
   "outputs": [
    {
     "name": "stdout",
     "output_type": "stream",
     "text": [
      "El objetos 2374804714032 tiene el atributo nombre como Sofia\n",
      "El objetos 2374811439248 tiene el atributo nombre como Dinner\n",
      "El objetos 2374811438288 tiene el atributo nombre como Andres\n"
     ]
    }
   ],
   "source": [
    "# Otro ejemplo:\n",
    "\n",
    "class Persona:\n",
    "    def __init__(self):\n",
    "        self.nombre = input('Ingrese su nombre Porfavor: ')\n",
    "        self.edad = int(input('Ingrese su edad: '))\n",
    "\n",
    "\n",
    "estudiante = Persona()\n",
    "estudiante2 = Persona()\n",
    "profesor = Persona()\n",
    "\n",
    "\n",
    "print (f'El objetos {id(estudiante)} tiene el atributo nombre como {estudiante.nombre}')\n",
    "print (f'El objetos {id(estudiante2)} tiene el atributo nombre como {estudiante2.nombre}')\n",
    "print (f'El objetos {id(profesor)} tiene el atributo nombre como {profesor.nombre}')"
   ]
  },
  {
   "cell_type": "code",
   "execution_count": null,
   "metadata": {},
   "outputs": [],
   "source": [
    "#Como crear una clase otro ejemplo\n",
    "class Persona:\n",
    "    def __init__(self,nombre,age):\n",
    "        self.nombre = nombre\n",
    "        self.edad = age\n",
    "        self.activo = True\n",
    "        self.materias = []\n",
    "\n",
    "\n",
    "    def saludar(self): #Método\n",
    "        if self.activo:\n",
    "            print(f'Hola, mi nombre es {self.nombre} y tengo {self.edad} años')\n",
    "        else:\n",
    "            print(f'Este objeto {self.nombre}  no puede saludar, porque esta declarado como Inactivo')\n",
    "    def imprimir_materias(self):\n",
    "        print(*self.materias) \n",
    "    \n",
    "estudiante = Persona('Emmanuel Alfaro',28)\n",
    "estudiante2 = Persona('Mariana Villalobos', 25)\n",
    "profesor = Persona('Andrés Mena',33)\n",
    "\n",
    "\n",
    "\n",
    "\n",
    "print (f'El objetos {id(estudiante)} tiene el atributo nombre como {estudiante.nombre}')\n",
    "print (f'El objetos {id(estudiante2)} tiene el atributo nombre como {estudiante2.nombre}')\n",
    "print (f'El objetos {id(profesor)} tiene el atributo nombre como {profesor.nombre}')\n",
    "\n",
    "\n",
    "#Llamada a un método de la clase\n",
    "estudiante.saludar()\n",
    "estudiante.materias = ['Matematicas','Historia','Biologia']\n",
    "estudiante.imprimir_materias()\n",
    "\n",
    "\n",
    "\n",
    "profesor.activo = False\n",
    "profesor.imprimir_materias()\n",
    "profesor.saludar()"
   ]
  },
  {
   "cell_type": "markdown",
   "metadata": {},
   "source": [
    "### 📌 Atributos y Métodos\n",
    "Los atributos representanlas propiedades de un objeto, y los métodos son las funciones que definen su comportamiento."
   ]
  },
  {
   "cell_type": "code",
   "execution_count": null,
   "metadata": {},
   "outputs": [],
   "source": [
    "#Crear una clase\n",
    "class carro:\n",
    "    def __init__(self,num_matricula,modelo,marca):\n",
    "        self.matricula = num_matricula\n",
    "        self.modelo = modelo\n",
    "        self.marca = marca\n",
    "        self.ecendido = True #Estáticos\n",
    "        self.fallas = []\n",
    "        \n",
    "    def reporte_fallas(self):\n",
    "        self.fallas.append(input(\"Ingrese el detalla del reporte de la falla: \"))\n",
    "        \n",
    "    def reporte_estado(self):\n",
    "        print(f'\\nEl carro matricúla {self.matricula}, marca {self.marca}')\n",
    "        print('---- REPORTE DE FALLAS----')\n",
    "        for elemento in self.fallas:\n",
    "            print(elemento)\n",
    "    \n",
    "mi_carro = carro('123ASD',2017,'Mitsubichi Lancer')\n",
    "mi_carro_trabajo = carro('QWERTY',2025,'Toyota Hilux')\n",
    "\n",
    "mi_carro.reporte_fallas()\n",
    "mi_carro.reporte_estado()\n",
    "\n",
    "mi_cochera = [mi_carro,mi_carro_trabajo] \n",
    "\n",
    "mi_carro_trabajo.reporte_estado()\n",
    "#print(mi_carro.marca)\n",
    "#print(mi_carro_trabajo.marca)"
   ]
  },
  {
   "cell_type": "markdown",
   "metadata": {},
   "source": [
    "### Ejercicios POO en Python\n",
    "## 📌 Ejercicio 1: Calculadora de Descuento\n",
    "#📍 Objetivo: Crear una clase que calcule el precio final de un producto aplicando un descuento.\n",
    "\n",
    "🔹 Instrucciones:\n",
    "Crear una clase llamada Producto con los siguientes atributos:\n",
    "nombre (nombre del producto)\n",
    "precio (precio original del producto)\n",
    "descuento (porcentaje de descuento en decimal, por ejemplo, 0.2 para 20%)\n",
    "Implementar un método llamado precio_final() que retorne el precio con el descuento aplicado.\n",
    "Crear un objeto de la clase con un producto de tu elección y mostrar el precio final."
   ]
  },
  {
   "cell_type": "code",
   "execution_count": 8,
   "metadata": {},
   "outputs": [
    {
     "name": "stdout",
     "output_type": "stream",
     "text": [
      "Producto: Zapatos\n",
      "Precio original: $ 100\n",
      "Precio con descuento: $ 80.0\n"
     ]
    }
   ],
   "source": [
    "class Producto:\n",
    "    def __init__(self, nombre, precio, descuento):\n",
    "        self.nombre = nombre\n",
    "        self.precio = precio\n",
    "        self.descuento = descuento\n",
    "\n",
    "    def precio_final(self):\n",
    "        # Aplicamos el descuento\n",
    "        precio_descuento = self.precio - (self.precio * self.descuento)\n",
    "        return precio_descuento\n",
    "\n",
    "# Creamos un producto\n",
    "producto = Producto(\"Zapatos\", 100, 0.2)  # 20% de descuento segun clase\n",
    "\n",
    "# Calculamos el precio con descuento\n",
    "precio_con_descuento = producto.precio_final()\n",
    "\n",
    "# Imprimimos la información de forma clara\n",
    "print(\"Producto:\", producto.nombre)\n",
    "print(\"Precio original: $\", producto.precio)\n",
    "print(\"Precio con descuento: $\", precio_con_descuento)"
   ]
  },
  {
   "cell_type": "markdown",
   "metadata": {},
   "source": [
    "### 📌 Ejercicio 2: Registro de Estudiantes\n",
    "## 📍 Objetivo: Crear una clase para almacenar información de estudiantes y mostrar sus datos.\n",
    "\n",
    "🔹 Instrucciones:\n",
    "Crear una clase llamada Estudiante con los siguientes atributos:\n",
    "\n",
    "- nombre\n",
    "- edad\n",
    "- grado\n",
    "Implementar un método llamado mostrar_info() que imprima la información del estudiante en un formato legible.\n",
    "\n",
    "Crear dos instancias de la clase Estudiante y llamar al método mostrar_info() en cada una."
   ]
  },
  {
   "cell_type": "code",
   "execution_count": 7,
   "metadata": {},
   "outputs": [
    {
     "name": "stdout",
     "output_type": "stream",
     "text": [
      "Nombre: Juan Pérez\n",
      "Edad: 16 años\n",
      "Grado: 10°\n",
      "\n",
      "Nombre: Ana Gómez\n",
      "Edad: 15 años\n",
      "Grado: 9°\n"
     ]
    }
   ],
   "source": [
    "class Estudiante:\n",
    "    def __init__(self, nombre, edad, grado):\n",
    "        self.nombre = nombre\n",
    "        self.edad = edad\n",
    "        self.grado = grado\n",
    "\n",
    "    def mostrar_info(self):\n",
    "        print(f\"Nombre: {self.nombre}\")\n",
    "        print(f\"Edad: {self.edad} años\")\n",
    "        print(f\"Grado: {self.grado}\")\n",
    "\n",
    "# Crear dos instancias de la clase Estudiante\n",
    "estudiante1 = Estudiante(\"Dinner Rodriguez\", 48, \"10°\")\n",
    "estudiante2 = Estudiante(\"Jorge Hernandez\", 37, \"9°\")\n",
    "\n",
    "# Llamar al método mostrar_info() en cada una:\n",
    "estudiante1.mostrar_info()\n",
    "estudiante2.mostrar_info()"
   ]
  },
  {
   "cell_type": "markdown",
   "metadata": {},
   "source": [
    "### 📌 Encapsulamiento\n",
    "El encapsulamiento oculta detalles internos de un objeto para restringir el acceso a sus atributos.\n",
    "\n",
    "\n",
    "\n",
    "🔒 __saldo es un atributo privado, solo accesible desde métodos de la misma clase."
   ]
  },
  {
   "cell_type": "code",
   "execution_count": 9,
   "metadata": {},
   "outputs": [
    {
     "name": "stdout",
     "output_type": "stream",
     "text": [
      "El saldo de Andrés en la cuenta es: $550\n"
     ]
    }
   ],
   "source": [
    "class CuentaBancaria:\n",
    "    def __init__(self, titular, saldo):\n",
    "        self.titular = titular\n",
    "        self.__saldo = saldo  # Atributo privado\n",
    "    \n",
    "    def mostra_saldo(self):\n",
    "        print(f'El saldo de {self.titular} en la cuenta es: ${cuenta_ahorros.__saldo}')\n",
    "    \n",
    "    def depositar(self, cantidad):\n",
    "        self.__saldo += cantidad\n",
    "\n",
    "\n",
    "cuenta_ahorros = CuentaBancaria('Kevin', 450)\n",
    "\n",
    "\n",
    "\n",
    "cuenta_ahorros.titular = 'Andrés' #Modificar atributo público\n",
    "cuenta_ahorros.depositar(100)\n",
    "\n",
    "\n",
    "\n",
    "cuenta_ahorros.mostra_saldo()\n",
    "        "
   ]
  },
  {
   "cell_type": "markdown",
   "metadata": {},
   "source": [
    "### 📌 Herencia\n",
    "La herencia permite que una clase hija herede atributos y métodos de una clase padre."
   ]
  },
  {
   "cell_type": "code",
   "execution_count": null,
   "metadata": {},
   "outputs": [],
   "source": [
    "class Animal:\n",
    "    def __init__(self, nombre,especie='Mamifero'):\n",
    "        self.nombre = nombre\n",
    "        self.especie = especie\n",
    "\n",
    "    def hacer_sonido(self):\n",
    "        return f\" Hace un sonido\"\n",
    "    \n",
    "class perro(Animal): # Clase hija que Hereda de la clase animal\n",
    "    \n",
    "    def hacer_sonido(self):\n",
    "        return f\"Guau guau\"\n",
    "\n",
    "pancho = perro('Pancho','Mamifero')\n",
    "\n",
    "print(pancho.hacer_sonido())"
   ]
  },
  {
   "cell_type": "markdown",
   "metadata": {},
   "source": [
    "### 📌 Polimorfismo\n",
    "## El polimorfismo permite usar un mismo método con diferentes implementaciones."
   ]
  },
  {
   "cell_type": "code",
   "execution_count": null,
   "metadata": {},
   "outputs": [],
   "source": [
    "class gato(Animal):\n",
    "    def hacer_sonido(self):\n",
    "        return f\"Miau miau\"\n",
    "    \n",
    "animales = [perro('Firulais'),gato('Michi'),Animal('desconocido')]\n",
    "\n",
    "for animal in animales:\n",
    "    print(animal.nombre, \":\",animal.hacer_sonido())"
   ]
  }
 ],
 "metadata": {
  "kernelspec": {
   "display_name": "Python 3",
   "language": "python",
   "name": "python3"
  },
  "language_info": {
   "codemirror_mode": {
    "name": "ipython",
    "version": 3
   },
   "file_extension": ".py",
   "mimetype": "text/x-python",
   "name": "python",
   "nbconvert_exporter": "python",
   "pygments_lexer": "ipython3",
   "version": "3.13.1"
  }
 },
 "nbformat": 4,
 "nbformat_minor": 2
}
